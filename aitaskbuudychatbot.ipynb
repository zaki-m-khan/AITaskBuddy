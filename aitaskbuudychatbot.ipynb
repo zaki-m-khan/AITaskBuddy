{
  "cells": [
    {
      "cell_type": "code",
      "source": [
        "pip install azure.identity"
      ],
      "outputs": [
        {
          "output_type": "stream",
          "name": "stdout",
          "text": "Requirement already satisfied: azure.identity in /anaconda/envs/azureml_py310_sdkv2/lib/python3.10/site-packages (1.18.0)\nRequirement already satisfied: azure-core>=1.31.0 in /anaconda/envs/azureml_py310_sdkv2/lib/python3.10/site-packages (from azure.identity) (1.31.0)\nRequirement already satisfied: cryptography>=2.5 in /anaconda/envs/azureml_py310_sdkv2/lib/python3.10/site-packages (from azure.identity) (43.0.1)\nRequirement already satisfied: msal>=1.30.0 in /anaconda/envs/azureml_py310_sdkv2/lib/python3.10/site-packages (from azure.identity) (1.31.0)\nRequirement already satisfied: msal-extensions>=1.2.0 in /anaconda/envs/azureml_py310_sdkv2/lib/python3.10/site-packages (from azure.identity) (1.2.0)\nRequirement already satisfied: typing-extensions>=4.0.0 in /anaconda/envs/azureml_py310_sdkv2/lib/python3.10/site-packages (from azure.identity) (4.12.2)\nRequirement already satisfied: requests>=2.21.0 in /anaconda/envs/azureml_py310_sdkv2/lib/python3.10/site-packages (from azure-core>=1.31.0->azure.identity) (2.32.3)\nRequirement already satisfied: six>=1.11.0 in /anaconda/envs/azureml_py310_sdkv2/lib/python3.10/site-packages (from azure-core>=1.31.0->azure.identity) (1.16.0)\nRequirement already satisfied: cffi>=1.12 in /anaconda/envs/azureml_py310_sdkv2/lib/python3.10/site-packages (from cryptography>=2.5->azure.identity) (1.17.1)\nRequirement already satisfied: PyJWT<3,>=1.0.0 in /anaconda/envs/azureml_py310_sdkv2/lib/python3.10/site-packages (from PyJWT[crypto]<3,>=1.0.0->msal>=1.30.0->azure.identity) (2.9.0)\nRequirement already satisfied: portalocker<3,>=1.4 in /anaconda/envs/azureml_py310_sdkv2/lib/python3.10/site-packages (from msal-extensions>=1.2.0->azure.identity) (2.10.1)\nRequirement already satisfied: pycparser in /anaconda/envs/azureml_py310_sdkv2/lib/python3.10/site-packages (from cffi>=1.12->cryptography>=2.5->azure.identity) (2.22)\nRequirement already satisfied: charset-normalizer<4,>=2 in /anaconda/envs/azureml_py310_sdkv2/lib/python3.10/site-packages (from requests>=2.21.0->azure-core>=1.31.0->azure.identity) (3.3.2)\nRequirement already satisfied: idna<4,>=2.5 in /anaconda/envs/azureml_py310_sdkv2/lib/python3.10/site-packages (from requests>=2.21.0->azure-core>=1.31.0->azure.identity) (3.10)\nRequirement already satisfied: urllib3<3,>=1.21.1 in /anaconda/envs/azureml_py310_sdkv2/lib/python3.10/site-packages (from requests>=2.21.0->azure-core>=1.31.0->azure.identity) (2.2.3)\nRequirement already satisfied: certifi>=2017.4.17 in /anaconda/envs/azureml_py310_sdkv2/lib/python3.10/site-packages (from requests>=2.21.0->azure-core>=1.31.0->azure.identity) (2024.8.30)\nNote: you may need to restart the kernel to use updated packages.\n"
        }
      ],
      "execution_count": 1,
      "metadata": {
        "gather": {
          "logged": 1742534461307
        }
      }
    },
    {
      "cell_type": "code",
      "source": [
        "import os\n",
        "\n",
        "os.environ[\"AZURE_CLIENT_ID\"] = \"<AZURE_CLIENT_ID>\"\n",
        "os.environ[\"AZURE_TENANT_ID\"] = \"<AZURE_TENANT_ID>\"\n",
        "os.environ[\"AZURE_CLIENT_SECRET\"] = \"<AZURE_CLIENT_SECRET>\""
      ],
      "outputs": [],
      "execution_count": 3,
      "metadata": {
        "gather": {
          "logged": 1742534573437
        }
      }
    },
    {
      "cell_type": "code",
      "source": [
        "pip install azure-ai-inference"
      ],
      "outputs": [
        {
          "output_type": "stream",
          "name": "stdout",
          "text": "Collecting azure-ai-inference\n  Downloading azure_ai_inference-1.0.0b9-py3-none-any.whl.metadata (34 kB)\nRequirement already satisfied: isodate>=0.6.1 in /anaconda/envs/azureml_py310_sdkv2/lib/python3.10/site-packages (from azure-ai-inference) (0.6.1)\nRequirement already satisfied: azure-core>=1.30.0 in /anaconda/envs/azureml_py310_sdkv2/lib/python3.10/site-packages (from azure-ai-inference) (1.31.0)\nRequirement already satisfied: typing-extensions>=4.6.0 in /anaconda/envs/azureml_py310_sdkv2/lib/python3.10/site-packages (from azure-ai-inference) (4.12.2)\nRequirement already satisfied: requests>=2.21.0 in /anaconda/envs/azureml_py310_sdkv2/lib/python3.10/site-packages (from azure-core>=1.30.0->azure-ai-inference) (2.32.3)\nRequirement already satisfied: six>=1.11.0 in /anaconda/envs/azureml_py310_sdkv2/lib/python3.10/site-packages (from azure-core>=1.30.0->azure-ai-inference) (1.16.0)\nRequirement already satisfied: charset-normalizer<4,>=2 in /anaconda/envs/azureml_py310_sdkv2/lib/python3.10/site-packages (from requests>=2.21.0->azure-core>=1.30.0->azure-ai-inference) (3.3.2)\nRequirement already satisfied: idna<4,>=2.5 in /anaconda/envs/azureml_py310_sdkv2/lib/python3.10/site-packages (from requests>=2.21.0->azure-core>=1.30.0->azure-ai-inference) (3.10)\nRequirement already satisfied: urllib3<3,>=1.21.1 in /anaconda/envs/azureml_py310_sdkv2/lib/python3.10/site-packages (from requests>=2.21.0->azure-core>=1.30.0->azure-ai-inference) (2.2.3)\nRequirement already satisfied: certifi>=2017.4.17 in /anaconda/envs/azureml_py310_sdkv2/lib/python3.10/site-packages (from requests>=2.21.0->azure-core>=1.30.0->azure-ai-inference) (2024.8.30)\nDownloading azure_ai_inference-1.0.0b9-py3-none-any.whl (124 kB)\nInstalling collected packages: azure-ai-inference\nSuccessfully installed azure-ai-inference-1.0.0b9\nNote: you may need to restart the kernel to use updated packages.\n"
        }
      ],
      "execution_count": 4,
      "metadata": {
        "gather": {
          "logged": 1742534582833
        }
      }
    },
    {
      "cell_type": "code",
      "source": [
        "import os\n",
        "from azure.ai.inference import ChatCompletionsClient\n",
        "from azure.ai.inference.models import SystemMessage, UserMessage\n",
        "from azure.core.credentials import AzureKeyCredential\n",
        "\n",
        "endpoint = \"https://nmwii-m8i8m9pw-swedencentral.openai.azure.com/openai/deployments/gpt-4\"\n",
        "model_name = \"gpt-4\"\n",
        "\n",
        "client = ChatCompletionsClient(\n",
        "    endpoint=endpoint,\n",
        "    credential=AzureKeyCredential(\"7lSQaqqQkOaOXB4SUSnUasLHegYhkjNDfFILlwrfV2yar4uCaQOyJQQJ99BCACfhMk5XJ3w3AAAAACOGPkPg\"),\n",
        ")\n",
        "\n",
        "response = client.complete(\n",
        "    stream=True,\n",
        "    messages=[\n",
        "        SystemMessage(content=\"You are a supportive, responsible, and accessible virtual chat bot designed to help professional job coaches as they work with individuals with disabilities, special needs, or other barriers to employment. You also help them stay updated with trends in the supported employment area. Your role includes assisting with job coaching, training, administrative support, advocacy, and motivational guidance. In every interaction, ensure that your responses are safe, ethical, and fully compliant with established guidelines.\"),\n",
        "        UserMessage(content=\"I'm working with a client who has social anxiety. What strategies can I recommend for job interviews?\"),\n",
        "    ],\n",
        "    max_tokens=400,\n",
        "    temperature=1.0,\n",
        "    top_p=1.0,\n",
        "    model=model_name,\n",
        ")\n",
        "\n",
        "for update in response:\n",
        "    if update.choices:\n",
        "        print(update.choices[0].delta.content or \"\", end=\"\")\n",
        "\n",
        "client.close()"
      ],
      "outputs": [
        {
          "output_type": "stream",
          "name": "stdout",
          "text": "Working with a client who has social anxiety, especially when preparing for job interviews, requires gentle and supportive strategies. Here are some suggestions you can implement:\n\n1. **Role-Playing**: Conduct mock interviews with your client. This simulates the interview environment and helps them practice responses and get accustomed to being asked questions. Gradually increase the realism and pressure of the setting.\n\n2. **Prepare Thoroughly**: Help your client prepare answers for common interview questions and assist them in crafting stories that showcase their strengths and achievements. Knowing what to say ahead of time can ease anxiety.\n\n3. **Relaxation Techniques**: Teach your client techniques such as deep breathing, mindfulness, or progressive muscle relaxation. Practising these techniques regularly can help manage anxiety symptoms before and during the interview.\n\n4. **Visualize Success**: Encourage your client to visualize the interview process positively, imagining a calm interaction and a successful outcome. This can increase confidence and reduce anxiety.\n\n5. **Plan the Logistics**: Work with your client to plan out the day of the interview in detail, including transportation, the route, what to wear, and what to bring. This can help minimize anxiety related to logistical uncertainties.\n\n6. **Information Gathering**: Encourage your client to research the company thoroughly. Understanding the company’s culture and the interviewer's background can help them feel prepared and less anxious.\n\n7. **Small Steps**: If possible, arrange for smaller, less formal interactions with potential employers before a formal job interview. Gradual exposure can decrease anxiety over time.\n\n8. **Affirmations and Positive Thinking**: Help your client develop positive affirmations that reinforce their capabilities and worth. Focusing on positive thoughts can shift attention away from anxious feelings.\n\n9. **Professional Support**: Depending on the severity of the social anxiety, it might be beneficial to recommend that your client speak with a mental health professional who can provide therapy or medication to manage anxiety effectively.\n\n10. **Feedback Loop**: After each mock or real interview, have a feedback"
        }
      ],
      "execution_count": 10,
      "metadata": {
        "gather": {
          "logged": 1742536275986
        }
      }
    },
    {
      "cell_type": "code",
      "source": [
        "import os\n",
        "from azure.ai.inference import ChatCompletionsClient\n",
        "from azure.ai.inference.models import AssistantMessage, SystemMessage, UserMessage\n",
        "from azure.core.credentials import AzureKeyCredential\n",
        "\n",
        "endpoint = \"https://nmwii-m8i8m9pw-swedencentral.openai.azure.com/openai/deployments/gpt-4\"\n",
        "model_name = \"gpt-4\"\n",
        "\n",
        "client = ChatCompletionsClient(\n",
        "    endpoint=endpoint,\n",
        "    credential=AzureKeyCredential(\"7lSQaqqQkOaOXB4SUSnUasLHegYhkjNDfFILlwrfV2yar4uCaQOyJQQJ99BCACfhMk5XJ3w3AAAAACOGPkPg\"),\n",
        ")\n",
        "\n",
        "response = client.complete(\n",
        "    messages=[\n",
        "      SystemMessage(content=\"You are a supportive, responsible, and accessible virtual chat bot designed to help professional job coaches as they work with individuals with disabilities, special needs, or other barriers to employment. You also help them stay updated with trends in the supported employment area.\"),\n",
        "      UserMessage(content=\"I'm working with a client who has social anxiety. What strategies can I recommend for job interviews?\"),\n",
        "      AssistantMessage(content=\"Supporting clients with social anxiety during job interviews requires thoughtful strategies that build confidence while acknowledging their challenges. Here are some practical recommendations you can share:\\n \\n 1. Preparation and Practice: Help your client prepare answers to common interview questions and practice through role-playing sessions that gradually increase in difficulty.\\n 2. Anxiety Management Techniques: Teach breathing exercises and grounding techniques they can use before and during interviews to manage physical symptoms of anxiety.\\n 3. Accommodations Awareness: Educate your client about their rights to reasonable accommodations, which might include requesting a written list of questions beforehand or a quieter interview environment.\\n \\n Remember that building confidence through small successes is key. Consider arranging practice interviews with supportive employers or participating in community programs that offer interview workshops specifically designed for individuals with anxiety or other barriers.\"),\n",
        "      UserMessage(content=\"What are some specific grounding techniques I could teach them?\")\n",
        "    ],\n",
        "    max_tokens=400,\n",
        "    temperature=1.0,\n",
        "    top_p=1.0,\n",
        "    model=model_name\n",
        ")\n",
        "\n",
        "print(response.choices[0].message.content)"
      ],
      "outputs": [
        {
          "output_type": "stream",
          "name": "stdout",
          "text": "Grounding techniques can be extremely helpful for individuals with social anxiety, especially during high-pressure situations like job interviews. Here are specific methods you can teach your clients:\n\n1. **5-4-3-2-1 Technique**: This involves using the senses to focus outwardly rather than on anxiety. Ask them to notice and name:\n   - 5 things they can see,\n   - 4 things they can touch,\n   - 3 things they can hear,\n   - 2 things they can smell,\n   - 1 thing they can taste.\n\n2. **Deep Breathing**: Encourage your client to practice deep breathing exercises. Instruct them to breathe in slowly through the nose, hold for a few seconds, and then exhale slowly through the mouth. Often, refining this technique before the interview ensures it comes more naturally when stress increases.\n\n3. **Progressive Muscle Relaxation (PMR)**: This technique involves gradually tensing and then relaxing different muscle groups in the body. This not only helps reduce physical tension but also diverts the mind from anxious thoughts.\n\n4. **Counting**: Simple counting can help refocus the mind. You can ask them to count backward from 100 by threes or any other sequence that requires a bit of concentration.\n\n5. **Visualization**: Guide them to visualize a calm or happy place. This technique helps engage the mind in a soothing scenario, providing a temporary escape from the stressful situation.\n\n6. **Anchor Phrase**: Work with your client to develop a phrase that they can repeat to themselves during moments of anxiety. This could be a statement like \"I am prepared and calm\" or \"I am here and I am okay\".\n\nIncorporating these techniques into your preparation sessions can help your client manage anxiety more effectively during interviews. It's important to practice these methods multiple times so they become more natural to use.\n"
        }
      ],
      "execution_count": 11,
      "metadata": {
        "gather": {
          "logged": 1742536336921
        }
      }
    },
    {
      "cell_type": "code",
      "source": [
        "import os\n",
        "from azure.ai.inference import ChatCompletionsClient\n",
        "from azure.ai.inference.models import SystemMessage, UserMessage\n",
        "from azure.core.credentials import AzureKeyCredential\n",
        "\n",
        "# Set these environment variables before creating the credential\n",
        "os.environ[\"AZURE_TENANT_ID\"] = \"your-tenant-id\"\n",
        "os.environ[\"AZURE_CLIENT_ID\"] = \"your-client-id\"\n",
        "os.environ[\"AZURE_CLIENT_SECRET\"] = \"your-client-secret\"\n",
        "\n",
        "endpoint = \"https://nmwii-m8i8m9pw-swedencentral.openai.azure.com/openai/deployments/gpt-4\"\n",
        "model_name = \"gpt-4\"\n",
        "\n",
        "client = ChatCompletionsClient(\n",
        "    endpoint=endpoint,\n",
        "    credential=AzureKeyCredential(\"7lSQaqqQkOaOXB4SUSnUasLHegYhkjNDfFILlwrfV2yar4uCaQOyJQQJ99BCACfhMk5XJ3w3AAAAACOGPkPg\"),\n",
        ")\n",
        "\n",
        "response = client.complete(\n",
        "    messages=[\n",
        "        SystemMessage(content=\"You are a supportive, responsible, and accessible virtual chat bot designed to help professional job coaches as they work with individuals with disabilities, special needs, or other barriers to employment. You also help them stay updated with trends in the supported employment area. Your role includes assisting with job coaching, training, administrative support, advocacy, and motivational guidance. In every interaction, ensure that your responses are safe, ethical, and fully compliant with established guidelines.\"),\n",
        "        UserMessage(content=\"I'm working with a client who has social anxiety. What strategies can I recommend for job interviews?\"),\n",
        "    ],\n",
        "    max_tokens=400,\n",
        "    temperature=1.0,\n",
        "    top_p=1.0,\n",
        "    model=model_name\n",
        ")\n",
        "\n",
        "print(response.choices[0].message.content)"
      ],
      "outputs": [
        {
          "output_type": "stream",
          "name": "stdout",
          "text": "Dealing with social anxiety during job interviews can be challenging for many candidates. Here are some strategies you might suggest to your client to help manage their anxiety and perform better during interviews:\n\n1. **Preparation**: Encourage your client to prepare thoroughly for the interview. This includes researching the company, understanding the job role, and practicing common interview questions. Being well-prepared can boost confidence and reduce anxiety.\n\n2. **Mock Interviews**: Conduct mock interviews with your client. This can help them get used to the feeling of being asked questions and articulating their thoughts under pressure. Try to simulate the interview environment as closely as possible.\n\n3. **Visualization Techniques**: Teach your client visualization techniques. Have them envision completing the interview successfully, which can create a positive mindset.\n\n4. **Breathing Exercises**: Introduce deep breathing exercises or meditation to help manage anxiety symptoms. Practicing these techniques regularly can be beneficial both before and during the interview.\n\n5. **Focus on Small Goals**: Break the interview process into small, manageable goals instead of focusing on the entire interview at once. For instance, concentrate on giving a good answer to one question at a time.\n\n6. **Positive Affirmations**: Encourage the use of positive affirmations to boost self-esteem. Replacing negative thoughts with positive ones can help manage anxiety levels.\n\n7. **Arrive Early**: Recommend arriving a bit early to the interview location. This allows your client to acclimatize to the environment and reduces stress.\n\n8. **Discuss Their Needs**: Depending on the severity of their social anxiety, it might be appropriate for your client to disclose their condition to the employer. This can be done tactically and can help the interviewer make accommodations, like providing a quiet room before the interview.\n\n9. **Professional Help**: If the social anxiety is significantly hindering their performance, suggest seeking help from a mental health professional who can provide additional coping mechanisms and possibly medication.\n\n10. **Follow-Up Practice**: After each interview, go through\n"
        }
      ],
      "execution_count": 12,
      "metadata": {
        "gather": {
          "logged": 1742536445539
        }
      }
    },
    {
      "cell_type": "code",
      "source": [
        "from azure.ai.inference import ChatCompletionsClient\n",
        "from azure.ai.inference.models import SystemMessage, UserMessage\n",
        "from azure.core.credentials import AzureKeyCredential\n",
        "\n",
        "def chat_with_bot(user_input):\n",
        "    endpoint = \"https://nmwii-m8i8m9pw-swedencentral.openai.azure.com/openai/deployments/gpt-4\"\n",
        "    model_name = \"gpt-4\"\n",
        "\n",
        "    client = ChatCompletionsClient(\n",
        "        endpoint=endpoint,\n",
        "        credential=AzureKeyCredential(\"7lSQaqqQkOaOXB4SUSnUasLHegYhkjNDfFILlwrfV2yar4uCaQOyJQQJ99BCACfhMk5XJ3w3AAAAACOGPkPg\"),\n",
        "    )\n",
        "\n",
        "    response = client.complete(\n",
        "        stream=True,\n",
        "        messages=[\n",
        "            SystemMessage(content=\"You are a supportive, responsible, and accessible virtual chat bot designed to help professional job coaches as they work with individuals with disabilities, special needs, or other barriers to employment. You also help them stay updated with trends in the supported employment area. Your role includes assisting with job coaching, training, administrative support, advocacy, and motivational guidance. In every interaction, ensure that your responses are safe, ethical, and fully compliant with established guidelines.\"),\n",
        "            UserMessage(content=user_input),\n",
        "    ],\n",
        "        max_tokens=400,\n",
        "        temperature=1.0,\n",
        "        top_p=1.0,\n",
        "        model=model_name,\n",
        "    )\n",
        "\n",
        "    for update in response:\n",
        "        if update.choices:\n",
        "            print(update.choices[0].delta.content or \"\", end=\"\")\n",
        "\n",
        "    client.close()"
      ],
      "outputs": [],
      "execution_count": 18,
      "metadata": {
        "gather": {
          "logged": 1742537855169
        }
      }
    },
    {
      "cell_type": "code",
      "source": [
        "chat_with_bot(\"How can I prepare people for remote jobs?\")"
      ],
      "outputs": [
        {
          "output_type": "stream",
          "name": "stdout",
          "text": "Preparing individuals for remote jobs involves a multifaceted approach, especially for those with disabilities or special needs. Here are several strategies you can employ:\n\n1. **Technical Skills Training**: Ensure that they are competent in using essential software such as word processors, spreadsheets, email, and communication tools like Zoom, Microsoft Teams, and Slack. Consider any adaptive technology or software they might need based on their specific needs.\n\n2. **Workspace Setup**: Guide them in setting up a comfortable and efficient home office space. This setup should include proper desk height, comfortable seating, adequate lighting, and any necessary adaptive equipment or ergonomic tools.\n\n3. **Time Management**: Teach effective time management skills, including how to schedule breaks, avoid distractions, and use time-tracking tools to stay focused and productive.\n\n4. **Communication Skills**: Since remote work relies heavily on written communication, focus on enhancing their email etiquette, and clarity in messaging. Role-playing different scenarios can also help improve their confidence in live communication situations.\n\n5. **Self-Advocacy**: Encourage them to self-advocate by communicating their needs clearly, especially around accommodations that support their disability in a remote work environment.\n\n6. **Online Etiquette and Cybersecurity**: Educate them on maintaining professionalism online, managing their digital footprint, respecting online boundaries, and basic cybersecurity practices to protect sensitive information.\n\n7. **Stress Management and Self-Care**: Remote work can sometimes blur the lines between personal and professional life. Teach strategies for managing stress and maintaining a healthy work-life balance.\n\n8. **Regular Check-ins**: Establish a routine where you check in with them regularly to discuss challenges, progress, and adapt coaching strategies as needed. This can also involve setting up peer support groups where they can share experiences and solutions.\n\n9. **Job Search Assistance**: Help them identify job opportunities that align well with their skill set, and assist them in the application process which includes creating effective resumes and preparing for interviews.\n\n10. **Simulations and Practice**:"
        }
      ],
      "execution_count": 19,
      "metadata": {
        "gather": {
          "logged": 1742537873569
        }
      }
    },
    {
      "cell_type": "code",
      "source": [
        "chat_with_bot(\"What are some documents that I am supposed to fill out as a Job coach for disabled people?\")"
      ],
      "outputs": [
        {
          "output_type": "stream",
          "name": "stdout",
          "text": "As a job coach working with individuals with disabilities, you are often required to handle various documents for administrative, planning, and reporting purposes. Below are some common types of documents you might encounter:\n\n1. **Individual Service Plan (ISP)** - This document includes detailed information about the goals and objectives for the individual you are supporting. It typically outlines the specific services to be provided, the measurable outcomes expected, and the methods for achieving these outcomes.\n\n2. **Job Analysis Report** - This report provides detailed information about a specific job that an individual is considering or has been placed in. It outlines the tasks involved, necessary skills, work environment, and any potential accommodations that might be needed.\n\n3. **Progress Reports** - Regular updates on the individual’s progress towards their employment goals. These reports might be daily, weekly, or monthly and typically highlight successes, challenges, and areas needing additional support.\n\n4. **Time Sheets or Activity Logs** - These are used to record the hours worked by both the client and the job coach. They're essential for billing purposes if the job coaching services are funded through state agencies or other external sources.\n\n5. **Incident Reports** - If there are any unusual or significant incidents involving the client, such as accidents, conflicts, or major deviations from the plan, detailed reports might need to be filed.\n\n6. **Training Materials** - Job coaches might also need to prepare or maintain training handouts, instructional materials, and resources that are used to support the client in learning job tasks and adapting to the workplace.\n\n7. **Accommodation Requests** - When necessary, documentation for requested accommodations under the Americans with Disabilities Act (ADA) needs to be prepared to ensure the work environment is suitable for the individual’s needs.\n\n8. **Transition Plans** - These documents might be used to outline the steps for shifting from intensive job coach support to a more independent work scenario, or transitioning between different jobs or roles.\n\n9. **Confidentiality Agreements** -"
        }
      ],
      "execution_count": 21,
      "metadata": {
        "gather": {
          "logged": 1742538428284
        }
      }
    }
  ],
  "metadata": {
    "kernelspec": {
      "name": "python310-sdkv2",
      "language": "python",
      "display_name": "Python 3.10 - SDK v2"
    },
    "language_info": {
      "name": "python",
      "version": "3.10.14",
      "mimetype": "text/x-python",
      "codemirror_mode": {
        "name": "ipython",
        "version": 3
      },
      "pygments_lexer": "ipython3",
      "nbconvert_exporter": "python",
      "file_extension": ".py"
    },
    "microsoft": {
      "ms_spell_check": {
        "ms_spell_check_language": "en"
      },
      "host": {
        "AzureML": {
          "notebookHasBeenCompleted": true
        }
      }
    },
    "nteract": {
      "version": "nteract-front-end@1.0.0"
    },
    "kernel_info": {
      "name": "python310-sdkv2"
    }
  },
  "nbformat": 4,
  "nbformat_minor": 2
}
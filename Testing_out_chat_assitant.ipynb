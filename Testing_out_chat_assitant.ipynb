{
  "nbformat": 4,
  "nbformat_minor": 0,
  "metadata": {
    "colab": {
      "provenance": [],
      "gpuType": "T4"
    },
    "kernelspec": {
      "name": "python3",
      "display_name": "Python 3"
    },
    "language_info": {
      "name": "python"
    },
    "accelerator": "GPU"
  },
  "cells": [
    {
      "cell_type": "code",
      "execution_count": 1,
      "metadata": {
        "colab": {
          "base_uri": "https://localhost:8080/"
        },
        "id": "1zmSvunIBOcU",
        "outputId": "417d8fba-3c1d-4aab-f445-41e6f9a6b64b"
      },
      "outputs": [
        {
          "output_type": "stream",
          "name": "stdout",
          "text": [
            "Requirement already satisfied: azure.identity in /usr/local/lib/python3.11/dist-packages (1.21.0)\n",
            "Requirement already satisfied: azure-core>=1.31.0 in /usr/local/lib/python3.11/dist-packages (from azure.identity) (1.32.0)\n",
            "Requirement already satisfied: cryptography>=2.5 in /usr/local/lib/python3.11/dist-packages (from azure.identity) (43.0.3)\n",
            "Requirement already satisfied: msal>=1.30.0 in /usr/local/lib/python3.11/dist-packages (from azure.identity) (1.32.0)\n",
            "Requirement already satisfied: msal-extensions>=1.2.0 in /usr/local/lib/python3.11/dist-packages (from azure.identity) (1.3.1)\n",
            "Requirement already satisfied: typing-extensions>=4.0.0 in /usr/local/lib/python3.11/dist-packages (from azure.identity) (4.12.2)\n",
            "Requirement already satisfied: requests>=2.21.0 in /usr/local/lib/python3.11/dist-packages (from azure-core>=1.31.0->azure.identity) (2.32.3)\n",
            "Requirement already satisfied: six>=1.11.0 in /usr/local/lib/python3.11/dist-packages (from azure-core>=1.31.0->azure.identity) (1.17.0)\n",
            "Requirement already satisfied: cffi>=1.12 in /usr/local/lib/python3.11/dist-packages (from cryptography>=2.5->azure.identity) (1.17.1)\n",
            "Requirement already satisfied: PyJWT<3,>=1.0.0 in /usr/local/lib/python3.11/dist-packages (from PyJWT[crypto]<3,>=1.0.0->msal>=1.30.0->azure.identity) (2.10.1)\n",
            "Requirement already satisfied: pycparser in /usr/local/lib/python3.11/dist-packages (from cffi>=1.12->cryptography>=2.5->azure.identity) (2.22)\n",
            "Requirement already satisfied: charset-normalizer<4,>=2 in /usr/local/lib/python3.11/dist-packages (from requests>=2.21.0->azure-core>=1.31.0->azure.identity) (3.4.1)\n",
            "Requirement already satisfied: idna<4,>=2.5 in /usr/local/lib/python3.11/dist-packages (from requests>=2.21.0->azure-core>=1.31.0->azure.identity) (3.10)\n",
            "Requirement already satisfied: urllib3<3,>=1.21.1 in /usr/local/lib/python3.11/dist-packages (from requests>=2.21.0->azure-core>=1.31.0->azure.identity) (2.3.0)\n",
            "Requirement already satisfied: certifi>=2017.4.17 in /usr/local/lib/python3.11/dist-packages (from requests>=2.21.0->azure-core>=1.31.0->azure.identity) (2025.1.31)\n"
          ]
        }
      ],
      "source": [
        "pip install azure.identity"
      ]
    },
    {
      "cell_type": "code",
      "source": [
        "from azure.ai.inference import ChatCompletionsClient\n",
        "from azure.core.credentials import AzureKeyCredential\n",
        "\n",
        "# For Serverless API or Managed Compute endpoints\n",
        "client = ChatCompletionsClient(\n",
        "    endpoint=\"https://slung-m8gmpzgx-eastus2.openai.azure.com/openai/deployments/gpt-4/chat/completions?api-version=2024-10-21\",\n",
        "    credential=AzureKeyCredential(\"AITUMNeTWXjLocL36IgmqlQLysFAlL8HXaojy4FTjJVpi4nFzDflJQQJ99BCACHYHv6XJ3w3AAAAACOG2RAY\")\n",
        ")"
      ],
      "metadata": {
        "id": "dw-D_rCpBVnT"
      },
      "execution_count": 2,
      "outputs": []
    },
    {
      "cell_type": "code",
      "source": [
        "pip install azure-ai-inference"
      ],
      "metadata": {
        "colab": {
          "base_uri": "https://localhost:8080/",
          "height": 439
        },
        "id": "UCfdo3FqBZV0",
        "outputId": "28f94d61-9d75-4755-bef2-cf8b42ce4bd5"
      },
      "execution_count": 3,
      "outputs": [
        {
          "output_type": "stream",
          "name": "stdout",
          "text": [
            "Collecting azure-ai-inference\n",
            "  Downloading azure_ai_inference-1.0.0b9-py3-none-any.whl.metadata (34 kB)\n",
            "Collecting isodate>=0.6.1 (from azure-ai-inference)\n",
            "  Downloading isodate-0.7.2-py3-none-any.whl.metadata (11 kB)\n",
            "Requirement already satisfied: azure-core>=1.30.0 in /usr/local/lib/python3.11/dist-packages (from azure-ai-inference) (1.32.0)\n",
            "Requirement already satisfied: typing-extensions>=4.6.0 in /usr/local/lib/python3.11/dist-packages (from azure-ai-inference) (4.12.2)\n",
            "Requirement already satisfied: requests>=2.21.0 in /usr/local/lib/python3.11/dist-packages (from azure-core>=1.30.0->azure-ai-inference) (2.32.3)\n",
            "Requirement already satisfied: six>=1.11.0 in /usr/local/lib/python3.11/dist-packages (from azure-core>=1.30.0->azure-ai-inference) (1.17.0)\n",
            "Requirement already satisfied: charset-normalizer<4,>=2 in /usr/local/lib/python3.11/dist-packages (from requests>=2.21.0->azure-core>=1.30.0->azure-ai-inference) (3.4.1)\n",
            "Requirement already satisfied: idna<4,>=2.5 in /usr/local/lib/python3.11/dist-packages (from requests>=2.21.0->azure-core>=1.30.0->azure-ai-inference) (3.10)\n",
            "Requirement already satisfied: urllib3<3,>=1.21.1 in /usr/local/lib/python3.11/dist-packages (from requests>=2.21.0->azure-core>=1.30.0->azure-ai-inference) (2.3.0)\n",
            "Requirement already satisfied: certifi>=2017.4.17 in /usr/local/lib/python3.11/dist-packages (from requests>=2.21.0->azure-core>=1.30.0->azure-ai-inference) (2025.1.31)\n",
            "Downloading azure_ai_inference-1.0.0b9-py3-none-any.whl (124 kB)\n",
            "\u001b[2K   \u001b[90m━━━━━━━━━━━━━━━━━━━━━━━━━━━━━━━━━━━━━━━━\u001b[0m \u001b[32m124.9/124.9 kB\u001b[0m \u001b[31m7.4 MB/s\u001b[0m eta \u001b[36m0:00:00\u001b[0m\n",
            "\u001b[?25hDownloading isodate-0.7.2-py3-none-any.whl (22 kB)\n",
            "Installing collected packages: isodate, azure-ai-inference\n",
            "Successfully installed azure-ai-inference-1.0.0b9 isodate-0.7.2\n"
          ]
        },
        {
          "output_type": "display_data",
          "data": {
            "application/vnd.colab-display-data+json": {
              "pip_warning": {
                "packages": [
                  "azure"
                ]
              },
              "id": "d2d3d30d0f0c406c8590a5f8d0b38772"
            }
          },
          "metadata": {}
        }
      ]
    },
    {
      "cell_type": "code",
      "source": [
        "import os\n",
        "from azure.ai.inference import ChatCompletionsClient\n",
        "from azure.ai.inference.models import SystemMessage, UserMessage\n",
        "from azure.core.credentials import AzureKeyCredential\n",
        "\n",
        "endpoint = \"https://slung-m8gmpzgx-eastus2.openai.azure.com/openai/deployments/gpt-4\"\n",
        "model_name = \"gpt-4\"\n",
        "\n",
        "client = ChatCompletionsClient(\n",
        "    endpoint=endpoint,\n",
        "    credential=AzureKeyCredential(\"AITUMNeTWXjLocL36IgmqlQLysFAlL8HXaojy4FTjJVpi4nFzDflJQQJ99BCACHYHv6XJ3w3AAAAACOG2RAY\"),\n",
        ")\n",
        "\n",
        "response = client.complete(\n",
        "    messages=[\n",
        "        SystemMessage(content=\"You are a helpful assistant.\"),\n",
        "        UserMessage(content=\"help me break down this task, writing an email?\")\n",
        "    ],\n",
        "    max_tokens=400,\n",
        "    temperature=1.0,\n",
        "    top_p=1.0,\n",
        "    model=model_name\n",
        ")\n",
        "\n",
        "print(response.choices[0].message.content)"
      ],
      "metadata": {
        "colab": {
          "base_uri": "https://localhost:8080/"
        },
        "id": "L7mORlnvBuBy",
        "outputId": "2a57ae09-bc4d-4bee-a18c-5d68200ea72d"
      },
      "execution_count": 3,
      "outputs": [
        {
          "output_type": "stream",
          "name": "stdout",
          "text": [
            "Certainly! Writing an email can be broken down into several clear steps. Here's a structured approach:\n",
            "\n",
            "### 1. Define the Purpose of the Email\n",
            "Before you start, understand why you are writing the email. Is it to inform, request, remind, or persuade? Knowing the purpose will guide the tone and content of your email.\n",
            "\n",
            "### 2. Know Your Audience\n",
            "Think about who will be reading your email. This will help you decide the level of formality and the details you need to include.\n",
            "\n",
            "### 3. Draft a Clear Subject Line\n",
            "The subject line should be concise and direct, providing a preview of what the email contains. This helps the recipient understand the importance of the email and whether it’s urgent.\n",
            "\n",
            "### 4. Start with a Greeting\n",
            "- Use a formal greeting like \"Dear [Name]\" in professional settings.\n",
            "- A more casual greeting like \"Hi [Name]\" or \"Hello [Name]\" can be appropriate for familiar contacts.\n",
            "\n",
            "### 5. Write the Body\n",
            "- **Introduction**: If it’s your first communication, introduce yourself. If not, a brief reference to your relationship or previous communications might be helpful.\n",
            "- **Purpose**: State the main point of the email. Be direct and to the point to respect the reader's time.\n",
            "- **Details**: Provide all necessary details that the recipient needs to know. This can include dates, times, locations, specific requests, etc.\n",
            "- **Actionable items**: Clearly state what actions you expect from the recipient. \n",
            "\n",
            "### 6. Closing Remarks\n",
            "- Include a polite closing statement. Thank them for their time or assistance, provide a recap of the email, or mention the next steps.\n",
            "- Example closings: \"Thank you for your attention to this matter,\" \"Please let me know if you have any questions,\" or \"I look forward to your reply.\"\n",
            "\n",
            "### 7. Sign-Off\n",
            "Choose an appropriate sign-off followed by your name. Examples include:\n",
            "- Formal: \"\n"
          ]
        }
      ]
    },
    {
      "source": [
        "import os\n",
        "import time\n",
        "from azure.ai.inference import ChatCompletionsClient\n",
        "from azure.ai.inference.models import SystemMessage, UserMessage\n",
        "from azure.core.credentials import AzureKeyCredential\n",
        "from azure.core.exceptions import HttpResponseError\n",
        "\n",
        "endpoint = \"https://slung-m8gmpzgx-eastus2.openai.azure.com/openai/deployments/gpt-4\"\n",
        "model_name = \"gpt-4\"\n",
        "\n",
        "client = ChatCompletionsClient(\n",
        "    endpoint=endpoint,\n",
        "    credential=AzureKeyCredential(\"AITUMNeTWXjLocL36IgmqlQLysFAlL8HXaojy4FTjJVpi4nFzDflJQQJ99BCACHYHv6XJ3w3AAAAACOG2RAY\"),\n",
        ")\n",
        "\n",
        "# Retry mechanism with exponential backoff\n",
        "retries = 3  # Number of retries\n",
        "delay = 5    # Initial delay in seconds\n",
        "\n",
        "for i in range(retries):\n",
        "    try:\n",
        "        response = client.complete(\n",
        "            messages=[\n",
        "                SystemMessage(content=\"You are a helpful assistant.\"),\n",
        "                UserMessage(content=\"I am going to Paris, what should I see?\")\n",
        "            ],\n",
        "            max_tokens=400,\n",
        "            temperature=1.0,\n",
        "            top_p=1.0,\n",
        "            model=model_name\n",
        "        )\n",
        "        print(response.choices[0].message.content)\n",
        "        break  # Exit loop if successful\n",
        "    except HttpResponseError as e:\n",
        "        if e.status_code == 429:  # Check for rate limit error\n",
        "            print(f\"Rate limit exceeded. Retrying in {delay} seconds...\")\n",
        "            time.sleep(delay)\n",
        "            delay *= 2  # Exponential backoff\n",
        "        else:\n",
        "            raise  # Re-raise other exceptions"
      ],
      "cell_type": "code",
      "metadata": {
        "colab": {
          "base_uri": "https://localhost:8080/"
        },
        "id": "q2qmanpjHRYS",
        "outputId": "bfd155ef-f7d7-45e6-d7e3-f3ba82251209"
      },
      "execution_count": 5,
      "outputs": [
        {
          "output_type": "stream",
          "name": "stdout",
          "text": [
            "Paris is filled with iconic attractions, fascinating history, and charming spots. Here are some must-see sights and experiences:\n",
            "\n",
            "1. **Eiffel Tower**: The most emblematic symbol of Paris. Either day or night, a visit to the Eiffel Tower is a must. For a special experience, have dinner at one of its restaurants.\n",
            "\n",
            "2. **Louvre Museum**: Home to thousands of works of art, including the Mona Lisa and the Venus de Milo. Allocate enough time as the museum is vast.\n",
            "\n",
            "3. **Cathédrale Notre-Dame de Paris**: A magnificent example of French Gothic architecture. Although it was damaged by fire in 2019, you can still admire the structure from the outside.\n",
            "\n",
            "4. **Montmartre**: Wander around this bohemian hilltop neighborhood, visit the Basilica of the Sacré-Cœur, and enjoy panoramic views of Paris.\n",
            "\n",
            "5. **Seine River Cruise**: A cruise on the Seine offers a great way to see many of Paris's key sights like the Louvre, the Eiffel Tower, and Notre-Dame along its banks.\n",
            "\n",
            "6. **Arc de Triomphe**: Situated at the western end of the Champs-Élysées, this massive arch commemorates those who fought and died for France. You can climb to the top for amazing views.\n",
            "\n",
            "7. **Champs-Élysées**: One of the most famous avenues in the world, great for a stroll to take in the Parisian atmosphere.\n",
            "\n",
            "8. **Musée d'Orsay**: Housing the largest collection of impressionist and post-Impressionist masterpieces in the world, it's a must for art lovers.\n",
            "\n",
            "9. **Palace of Versailles**: A short train ride from Paris, this opulent palace and its grand gardens are well worth a visit.\n",
            "\n",
            "10. **Latin Quarter**: Explore this historic area known for its vibrant student life, bistros, and landmarks like the Panthéon\n"
          ]
        }
      ]
    },
    {
      "cell_type": "code",
      "source": [
        "import os\n",
        "from azure.ai.inference import ChatCompletionsClient\n",
        "from azure.ai.inference.models import AssistantMessage, SystemMessage, UserMessage\n",
        "from azure.core.credentials import AzureKeyCredential\n",
        "\n",
        "endpoint = \"https://slung-m8gmpzgx-eastus2.openai.azure.com/openai/deployments/gpt-4\"\n",
        "model_name = \"gpt-4\"\n",
        "\n",
        "client = ChatCompletionsClient(\n",
        "    endpoint=endpoint,\n",
        "    credential=AzureKeyCredential(\"AITUMNeTWXjLocL36IgmqlQLysFAlL8HXaojy4FTjJVpi4nFzDflJQQJ99BCACHYHv6XJ3w3AAAAACOG2RAY\"),\n",
        ")\n",
        "\n",
        "response = client.complete(\n",
        "    messages=[\n",
        "        SystemMessage(content=\"You are a helpful assistant who does not get persuaded easily\"),\n",
        "        UserMessage(content=\"team me how to properly tell the difference between criticism, praise and feedback, and reacting appropriately\"),\n",
        "\n",
        "    ],\n",
        "    max_tokens=400,\n",
        "    temperature=1.0,\n",
        "    top_p=1.0,\n",
        "    model=model_name\n",
        ")\n",
        "\n",
        "print(response.choices[0].message.content)"
      ],
      "metadata": {
        "colab": {
          "base_uri": "https://localhost:8080/"
        },
        "id": "s6Qi2KeQDUMt",
        "outputId": "4690c03d-92d2-4dd0-82ad-377b3862c08d"
      },
      "execution_count": 6,
      "outputs": [
        {
          "output_type": "stream",
          "name": "stdout",
          "text": [
            "To effectively differentiate and respond appropriately to criticism, praise, and feedback, consider the following approaches:\n",
            "\n",
            "### 1. Understanding the Differences\n",
            "- **Criticism:** Often points out what is wrong or what needs improvement and may not always be constructive. It can sometimes be presented in a negative or harsh tone.\n",
            "- **Praise:** Recognition or approval of what someone has done well. It focuses on success and positive outcomes.\n",
            "- **Feedback:** Typically involves specific information about how something is viewed by others. Feedback can include both positive and negative aspects, but it is generally aimed at offering insights to support improvement or growth. It is more balanced and detailed than mere criticism or praise.\n",
            "\n",
            "### 2. Reacting Appropriately\n",
            "\n",
            "#### To Criticism:\n",
            "- **Listen Carefully:** Try to listen without becoming defensive. Understand what the other person is saying and why they feel that way.\n",
            "- **Seek Clarification:** If something is unclear, ask specific questions to get more detailed insights about the criticism.\n",
            "- **Evaluate:** Consider whether the criticism is constructive and if it can be used to make positive changes.\n",
            "- **Respond Politely:** Whether you agree with the criticism or not, respond respectfully and calmly. You can either thank the critic for their input or explain your perspective without escalating the situation.\n",
            "\n",
            "#### To Praise:\n",
            "- **Acknowledge Graciously:** A simple “thank you” is often the best response when receiving praise. It shows that you appreciate the recognition.\n",
            "- **Express Gratitude:** You might also express gratitude for the specific effort recognized, especially if it was a team effort.\n",
            "- **Stay Humble and Motivated:** Use praise as motivation to continue performing well and improving further.\n",
            "\n",
            "#### To Feedback:\n",
            "- **Listen Actively:** Engage with the feedback provider, showing genuine interest in their comments. Listening actively means not planning what to say next while the other person is speaking.\n",
            "- **Discuss and Ask for Examples:** To better understand and to make the feedback actionable, ask for\n"
          ]
        }
      ]
    }
  ]
}